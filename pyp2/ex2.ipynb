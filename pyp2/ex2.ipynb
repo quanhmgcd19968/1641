{
 "metadata": {
  "language_info": {
   "codemirror_mode": {
    "name": "ipython",
    "version": 3
   },
   "file_extension": ".py",
   "mimetype": "text/x-python",
   "name": "python",
   "nbconvert_exporter": "python",
   "pygments_lexer": "ipython3",
   "version": "3.8.8"
  },
  "orig_nbformat": 2,
  "kernelspec": {
   "name": "python388jvsc74a57bd09b996767fbd90d316bf01e24d5372486226990761c4b6556528915de02c83fbc",
   "display_name": "Python 3.8.8 64-bit ('base': conda)"
  }
 },
 "nbformat": 4,
 "nbformat_minor": 2,
 "cells": [
  {
   "cell_type": "code",
   "execution_count": 1,
   "metadata": {},
   "outputs": [],
   "source": [
    "import math\n",
    "import numpy"
   ]
  },
  {
   "cell_type": "code",
   "execution_count": 2,
   "metadata": {},
   "outputs": [
    {
     "output_type": "stream",
     "name": "stdout",
     "text": [
      "[-4066  9639  3834 -5826 -7897 -3882 -3380  -233  1625  3712  5232  9312\n  3222  9258 -2210  2340 -5444   -44 -6544 -7542  8218 -1883 -1536  3465\n -3105 -7165  7322 -9818 -1002 -4352 -3920  8198  7753  2655  6794  3599\n  3192 -6037 -3783 -3384  8079  7142  9664 -1857  2754 -1224  2872 -5018\n  5574  3531  9774  4497  7460  1699 -7356 -2984  9537  6148  2796  9496\n  5535  6295 -4927  9928  4808  5247   -61 -8627   350  4620 -3825  2084\n  4312 -6438 -4028 -3276  8399  5683 -8202 -1756 -8584  2966 -8944 -9940\n -8735 -4526   182   -50 -2575  9055   388  2758 -7189 -5418  1010 -9697\n  9495 -7256   -43  2671]\n"
     ]
    }
   ],
   "source": [
    "# maxN = 2**31\r\n",
    "maxN = 10000\r\n",
    "arr = numpy.random.randint(-maxN, maxN, size = 100)\r\n",
    "print(arr)"
   ]
  },
  {
   "cell_type": "code",
   "execution_count": 3,
   "metadata": {},
   "outputs": [
    {
     "output_type": "stream",
     "name": "stdout",
     "text": [
      "[4066, 9639, 3834, 5826, 7897, 3882, 3380, 233, 1625, 3712, 5232, 9312, 3222, 9258, 2210, 2340, 5444, 44, 6544, 7542, 8218, 1883, 1536, 3465, 3105, 7165, 7322, 9818, 1002, 4352, 3920, 8198, 7753, 2655, 6794, 3599, 3192, 6037, 3783, 3384, 8079, 7142, 9664, 1857, 2754, 1224, 2872, 5018, 5574, 3531, 9774, 4497, 7460, 1699, 7356, 2984, 9537, 6148, 2796, 9496, 5535, 6295, 4927, 9928, 4808, 5247, 61, 8627, 350, 4620, 3825, 2084, 4312, 6438, 4028, 3276, 8399, 5683, 8202, 1756, 8584, 2966, 8944, 9940, 8735, 4526, 182, 50, 2575, 9055, 388, 2758, 7189, 5418, 1010, 9697, 9495, 7256, 43, 2671]\n"
     ]
    }
   ],
   "source": [
    "# 2.a\n",
    "posArr = [abs(x) for x in arr]\n",
    "print(posArr)"
   ]
  },
  {
   "cell_type": "code",
   "execution_count": 4,
   "metadata": {},
   "outputs": [],
   "source": [
    "def isPrime(num):\n",
    "    if (num < 2): return False\n",
    "    sqrtNum = int(math.sqrt(num))\n",
    "    \n",
    "    for i in range(2, sqrtNum + 1):\n",
    "        if (num % i == 0):\n",
    "            return False\n",
    "    return True"
   ]
  },
  {
   "cell_type": "code",
   "execution_count": 5,
   "metadata": {},
   "outputs": [
    {
     "output_type": "stream",
     "name": "stdout",
     "text": [
      "[233, 7753, 6037, 1699, 61, 8627, 5683, 9697, 43, 2671]\n"
     ]
    }
   ],
   "source": [
    "# 2.b\n",
    "# primes = []\n",
    "# for x in posArr:\n",
    "#     if (isPrime(x)):\n",
    "#         primes.append(x)\n",
    "# print(primes)\n",
    "primes = [x for x in filter(isPrime, posArr)]\n",
    "print(primes)"
   ]
  },
  {
   "cell_type": "code",
   "execution_count": 6,
   "metadata": {},
   "outputs": [
    {
     "output_type": "stream",
     "name": "stdout",
     "text": [
      "233 [233, 2796]\n7753 [7753]\n6037 [6037]\n1699 [1699]\n61 [3599, 61]\n8627 [8627]\n5683 [5683]\n9697 [9697]\n43 [6794, 8944, 5418, 43]\n2671 [2671]\n"
     ]
    }
   ],
   "source": [
    "# 2.c\n",
    "# res = []\n",
    "# for prime in primes:\n",
    "#     res = []\n",
    "#     for number in posArr:\n",
    "#         if (number % prime == 0):\n",
    "#             res.append(number)\n",
    "#     print(prime, res)\n",
    "\n",
    "for prime in primes:\n",
    "    res = [x for x in filter(lambda y: y % prime == 0, posArr)]\n",
    "    print(prime, res)"
   ]
  }
 ]
}