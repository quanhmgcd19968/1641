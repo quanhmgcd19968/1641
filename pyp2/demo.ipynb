{
 "metadata": {
  "language_info": {
   "codemirror_mode": {
    "name": "ipython",
    "version": 3
   },
   "file_extension": ".py",
   "mimetype": "text/x-python",
   "name": "python",
   "nbconvert_exporter": "python",
   "pygments_lexer": "ipython3",
   "version": "3.8.8"
  },
  "orig_nbformat": 2,
  "kernelspec": {
   "name": "python388jvsc74a57bd09b996767fbd90d316bf01e24d5372486226990761c4b6556528915de02c83fbc",
   "display_name": "Python 3.8.8 64-bit ('base': conda)"
  }
 },
 "nbformat": 4,
 "nbformat_minor": 2,
 "cells": [
  {
   "cell_type": "code",
   "execution_count": 1,
   "metadata": {},
   "outputs": [],
   "source": [
    "A = [[1, 2, 3], \n",
    "    [4, 5, 6], \n",
    "    [7, 8 ,9]]"
   ]
  },
  {
   "cell_type": "code",
   "execution_count": 2,
   "metadata": {},
   "outputs": [
    {
     "output_type": "stream",
     "name": "stdout",
     "text": [
      "[1, 5, 9]\n"
     ]
    }
   ],
   "source": [
    "diag = []\n",
    "for i in [0, 1, 2]:\n",
    "    diag.append(A[i][i])\n",
    "\n",
    "print(diag)"
   ]
  },
  {
   "cell_type": "code",
   "execution_count": 5,
   "metadata": {},
   "outputs": [
    {
     "output_type": "stream",
     "name": "stdout",
     "text": [
      "[1, 5, 9]\n"
     ]
    }
   ],
   "source": [
    "diagLC = [A[i][i] for i in range(0,3)]\n",
    "print(diagLC)"
   ]
  },
  {
   "cell_type": "code",
   "execution_count": 8,
   "metadata": {},
   "outputs": [
    {
     "output_type": "stream",
     "name": "stdout",
     "text": [
      "[1, 4, 7]\n"
     ]
    }
   ],
   "source": [
    "slicedInColums = [A[i][0] for i in range(0,3)]\n",
    "print(slicedInColums)"
   ]
  },
  {
   "cell_type": "code",
   "execution_count": 14,
   "metadata": {},
   "outputs": [
    {
     "output_type": "stream",
     "name": "stdout",
     "text": [
      "[1, 9, 25, 49, 81]\n"
     ]
    }
   ],
   "source": [
    "a = [1, 2, 3, 4, 5, 6, 7, 8, 9, 10]\n",
    "i = 1\n",
    "powerList = []\n",
    "while True:\n",
    "    powerList.append(i * i)\n",
    "    i += 2\n",
    "    if (i > 10): break\n",
    "print(powerList)"
   ]
  },
  {
   "cell_type": "code",
   "execution_count": null,
   "metadata": {},
   "outputs": [],
   "source": []
  }
 ]
}