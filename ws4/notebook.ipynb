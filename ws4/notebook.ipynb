{
 "metadata": {
  "language_info": {
   "codemirror_mode": {
    "name": "ipython",
    "version": 3
   },
   "file_extension": ".py",
   "mimetype": "text/x-python",
   "name": "python",
   "nbconvert_exporter": "python",
   "pygments_lexer": "ipython3",
   "version": "3.8.8"
  },
  "orig_nbformat": 2,
  "kernelspec": {
   "name": "python3",
   "display_name": "Python 3.8.8 64-bit ('base': conda)"
  },
  "interpreter": {
   "hash": "9b996767fbd90d316bf01e24d5372486226990761c4b6556528915de02c83fbc"
  }
 },
 "nbformat": 4,
 "nbformat_minor": 2,
 "cells": [
  {
   "cell_type": "code",
   "execution_count": 1,
   "metadata": {},
   "outputs": [],
   "source": [
    "# define number system convert function \"ConvertNumSystem\"\n",
    "def ConvertNumSystem(num, newBase):\n",
    "    try:            \n",
    "        if (newBase not in [2, 8, 16]):\n",
    "            raise ValueError(\"Invalid base system\")\n",
    "    except ValueError as e:\n",
    "        print(e)\n",
    "        return \"\"\n",
    "    if (num == 0):\n",
    "        return \"0\"\n",
    "    \n",
    "    if (num < 0):\n",
    "        sign = '-'\n",
    "        num = - num\n",
    "    else:\n",
    "        sign = \"\"\n",
    "    res = \"\"\n",
    "    digitsHex = {0: \"0\", 1: \"1\", 2: \"2\", 3: \"3\", 4: \"4\", 5: \"5\", \\\n",
    "                6: \"6\", 7: \"7\", 8: \"8\", 9: \"9\", 10: \"A\", 11: \"B\", \\\n",
    "                12: \"C\", 13: \"D\", 14: \"E\", 15: \"F\"}\n",
    "    while (num != 0):\n",
    "        res = str(digitsHex[num % newBase]) + res\n",
    "        num //= newBase\n",
    "    return sign + res"
   ]
  },
  {
   "cell_type": "code",
   "execution_count": 8,
   "metadata": {},
   "outputs": [],
   "source": [
    "# input a decimal number \"num\"\n",
    "while True:\n",
    "    try:\n",
    "        num = int(input(\"Enter a DECIMAL number: \"))\n",
    "        break\n",
    "    except ValueError as e:\n",
    "        print(e)"
   ]
  },
  {
   "cell_type": "code",
   "execution_count": 9,
   "metadata": {},
   "outputs": [
    {
     "output_type": "stream",
     "name": "stdout",
     "text": [
      "The number in DECIMAL is 0\nThe number in BINARY is 0\nThe number in OCTAL is 0\nThe number in HEXADECIMAL is 0\n"
     ]
    }
   ],
   "source": [
    "# print conversion result\n",
    "print('The number in DECIMAL is', num)\n",
    "print(\"The number in BINARY is\", ConvertNumSystem(num, 2))\n",
    "print(\"The number in OCTAL is\", ConvertNumSystem(num, 8))\n",
    "print(\"The number in HEXADECIMAL is\", ConvertNumSystem(num, 16))"
   ]
  },
  {
   "cell_type": "code",
   "execution_count": 10,
   "metadata": {},
   "outputs": [
    {
     "output_type": "stream",
     "name": "stdout",
     "text": [
      "The number in DECIMAL is 0\nThe number in BINARY is 0b0\nThe number in OCTAL is 0o0\nThe number in HEXADECIMAL is 0x0\n"
     ]
    }
   ],
   "source": [
    "# testing with the build in functions\n",
    "print('The number in DECIMAL is', num)\n",
    "print(\"The number in BINARY is\", bin(num))\n",
    "print(\"The number in OCTAL is\", oct(num))\n",
    "print(\"The number in HEXADECIMAL is\", hex(num))"
   ]
  },
  {
   "cell_type": "code",
   "execution_count": null,
   "metadata": {},
   "outputs": [],
   "source": []
  }
 ]
}