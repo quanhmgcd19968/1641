{
 "cells": [
  {
   "cell_type": "raw",
   "id": "35928bc5",
   "metadata": {},
   "source": [
    "# We will try to apply LSTM in Keras (in Tensorflow) library\n",
    "# we need to install the Tensorflow from Google \n",
    "# command for installation: pip install tensorflow --user"
   ]
  },
  {
   "cell_type": "code",
   "execution_count": 1,
   "id": "a1294f9b",
   "metadata": {},
   "outputs": [],
   "source": [
    "# Import some libraries\n",
    "import numpy as np \n",
    "import os\n",
    "import pandas as pd \n",
    "from matplotlib import pyplot as plt "
   ]
  },
  {
   "cell_type": "code",
   "execution_count": 4,
   "id": "e9ad8ff6",
   "metadata": {},
   "outputs": [],
   "source": [
    "# Import some libraries from Tesorflow, Scikit learn \n",
    "from tensorflow.keras.models import Sequential \n",
    "from tensorflow.keras.layers import LSTM, Dense\n",
    "# Some libraries from Scikit Learn for  pre-processing data\n",
    "from sklearn.preprocessing import MinMaxScaler\n",
    "from sklearn.metrics import mean_squared_error\n"
   ]
  },
  {
   "cell_type": "code",
   "execution_count": 5,
   "id": "fe3b2e17",
   "metadata": {},
   "outputs": [],
   "source": [
    "# Read csv data file \n",
    "# Declare some variables about the paths and files\n",
    "data_dir = \"D:\\\\FGW\\\\GDRIVE\\\\My BI\\\\Data\"\n",
    "csv_name = \"TESLA_STOCK_2010_2020.csv\"\n",
    "#csv_path = data_dir + \"\\\\\" + excel_name\n",
    "csv_path = os.path.join(data_dir, csv_name)"
   ]
  },
  {
   "cell_type": "code",
   "execution_count": 26,
   "id": "a8307780",
   "metadata": {},
   "outputs": [],
   "source": [
    "# We use pandas to read csv file into a dataframe \n",
    "stock_df = pd.read_csv(csv_path, parse_dates=True, index_col=0)"
   ]
  },
  {
   "cell_type": "code",
   "execution_count": 27,
   "id": "5a137fcf",
   "metadata": {},
   "outputs": [
    {
     "data": {
      "text/html": [
       "<div>\n",
       "<style scoped>\n",
       "    .dataframe tbody tr th:only-of-type {\n",
       "        vertical-align: middle;\n",
       "    }\n",
       "\n",
       "    .dataframe tbody tr th {\n",
       "        vertical-align: top;\n",
       "    }\n",
       "\n",
       "    .dataframe thead th {\n",
       "        text-align: right;\n",
       "    }\n",
       "</style>\n",
       "<table border=\"1\" class=\"dataframe\">\n",
       "  <thead>\n",
       "    <tr style=\"text-align: right;\">\n",
       "      <th></th>\n",
       "      <th>Open</th>\n",
       "      <th>High</th>\n",
       "      <th>Low</th>\n",
       "      <th>Close</th>\n",
       "      <th>Adj Close</th>\n",
       "      <th>Volume</th>\n",
       "    </tr>\n",
       "    <tr>\n",
       "      <th>Date</th>\n",
       "      <th></th>\n",
       "      <th></th>\n",
       "      <th></th>\n",
       "      <th></th>\n",
       "      <th></th>\n",
       "      <th></th>\n",
       "    </tr>\n",
       "  </thead>\n",
       "  <tbody>\n",
       "    <tr>\n",
       "      <th>2010-06-29</th>\n",
       "      <td>19.000000</td>\n",
       "      <td>25.000000</td>\n",
       "      <td>17.540001</td>\n",
       "      <td>23.889999</td>\n",
       "      <td>23.889999</td>\n",
       "      <td>18766300</td>\n",
       "    </tr>\n",
       "    <tr>\n",
       "      <th>2010-06-30</th>\n",
       "      <td>25.790001</td>\n",
       "      <td>30.420000</td>\n",
       "      <td>23.299999</td>\n",
       "      <td>23.830000</td>\n",
       "      <td>23.830000</td>\n",
       "      <td>17187100</td>\n",
       "    </tr>\n",
       "    <tr>\n",
       "      <th>2010-07-01</th>\n",
       "      <td>25.000000</td>\n",
       "      <td>25.920000</td>\n",
       "      <td>20.270000</td>\n",
       "      <td>21.959999</td>\n",
       "      <td>21.959999</td>\n",
       "      <td>8218800</td>\n",
       "    </tr>\n",
       "    <tr>\n",
       "      <th>2010-07-02</th>\n",
       "      <td>23.000000</td>\n",
       "      <td>23.100000</td>\n",
       "      <td>18.709999</td>\n",
       "      <td>19.200001</td>\n",
       "      <td>19.200001</td>\n",
       "      <td>5139800</td>\n",
       "    </tr>\n",
       "    <tr>\n",
       "      <th>2010-07-06</th>\n",
       "      <td>20.000000</td>\n",
       "      <td>20.000000</td>\n",
       "      <td>15.830000</td>\n",
       "      <td>16.110001</td>\n",
       "      <td>16.110001</td>\n",
       "      <td>6866900</td>\n",
       "    </tr>\n",
       "    <tr>\n",
       "      <th>...</th>\n",
       "      <td>...</td>\n",
       "      <td>...</td>\n",
       "      <td>...</td>\n",
       "      <td>...</td>\n",
       "      <td>...</td>\n",
       "      <td>...</td>\n",
       "    </tr>\n",
       "    <tr>\n",
       "      <th>2020-01-28</th>\n",
       "      <td>568.489990</td>\n",
       "      <td>576.809998</td>\n",
       "      <td>558.080017</td>\n",
       "      <td>566.900024</td>\n",
       "      <td>566.900024</td>\n",
       "      <td>11788500</td>\n",
       "    </tr>\n",
       "    <tr>\n",
       "      <th>2020-01-29</th>\n",
       "      <td>575.690002</td>\n",
       "      <td>589.799988</td>\n",
       "      <td>567.429993</td>\n",
       "      <td>580.989990</td>\n",
       "      <td>580.989990</td>\n",
       "      <td>17801500</td>\n",
       "    </tr>\n",
       "    <tr>\n",
       "      <th>2020-01-30</th>\n",
       "      <td>632.419983</td>\n",
       "      <td>650.880005</td>\n",
       "      <td>618.000000</td>\n",
       "      <td>640.809998</td>\n",
       "      <td>640.809998</td>\n",
       "      <td>29005700</td>\n",
       "    </tr>\n",
       "    <tr>\n",
       "      <th>2020-01-31</th>\n",
       "      <td>640.000000</td>\n",
       "      <td>653.000000</td>\n",
       "      <td>632.520020</td>\n",
       "      <td>650.570007</td>\n",
       "      <td>650.570007</td>\n",
       "      <td>15719300</td>\n",
       "    </tr>\n",
       "    <tr>\n",
       "      <th>2020-02-03</th>\n",
       "      <td>673.690002</td>\n",
       "      <td>786.140015</td>\n",
       "      <td>673.520020</td>\n",
       "      <td>780.000000</td>\n",
       "      <td>780.000000</td>\n",
       "      <td>47065000</td>\n",
       "    </tr>\n",
       "  </tbody>\n",
       "</table>\n",
       "<p>2416 rows × 6 columns</p>\n",
       "</div>"
      ],
      "text/plain": [
       "                  Open        High         Low       Close   Adj Close  \\\n",
       "Date                                                                     \n",
       "2010-06-29   19.000000   25.000000   17.540001   23.889999   23.889999   \n",
       "2010-06-30   25.790001   30.420000   23.299999   23.830000   23.830000   \n",
       "2010-07-01   25.000000   25.920000   20.270000   21.959999   21.959999   \n",
       "2010-07-02   23.000000   23.100000   18.709999   19.200001   19.200001   \n",
       "2010-07-06   20.000000   20.000000   15.830000   16.110001   16.110001   \n",
       "...                ...         ...         ...         ...         ...   \n",
       "2020-01-28  568.489990  576.809998  558.080017  566.900024  566.900024   \n",
       "2020-01-29  575.690002  589.799988  567.429993  580.989990  580.989990   \n",
       "2020-01-30  632.419983  650.880005  618.000000  640.809998  640.809998   \n",
       "2020-01-31  640.000000  653.000000  632.520020  650.570007  650.570007   \n",
       "2020-02-03  673.690002  786.140015  673.520020  780.000000  780.000000   \n",
       "\n",
       "              Volume  \n",
       "Date                  \n",
       "2010-06-29  18766300  \n",
       "2010-06-30  17187100  \n",
       "2010-07-01   8218800  \n",
       "2010-07-02   5139800  \n",
       "2010-07-06   6866900  \n",
       "...              ...  \n",
       "2020-01-28  11788500  \n",
       "2020-01-29  17801500  \n",
       "2020-01-30  29005700  \n",
       "2020-01-31  15719300  \n",
       "2020-02-03  47065000  \n",
       "\n",
       "[2416 rows x 6 columns]"
      ]
     },
     "execution_count": 27,
     "metadata": {},
     "output_type": "execute_result"
    }
   ],
   "source": [
    "stock_df"
   ]
  },
  {
   "cell_type": "code",
   "execution_count": 28,
   "id": "4669873d",
   "metadata": {},
   "outputs": [
    {
     "name": "stdout",
     "output_type": "stream",
     "text": [
      "<class 'pandas.core.frame.DataFrame'>\n",
      "DatetimeIndex: 2416 entries, 2010-06-29 to 2020-02-03\n",
      "Data columns (total 6 columns):\n",
      " #   Column     Non-Null Count  Dtype  \n",
      "---  ------     --------------  -----  \n",
      " 0   Open       2416 non-null   float64\n",
      " 1   High       2416 non-null   float64\n",
      " 2   Low        2416 non-null   float64\n",
      " 3   Close      2416 non-null   float64\n",
      " 4   Adj Close  2416 non-null   float64\n",
      " 5   Volume     2416 non-null   int64  \n",
      "dtypes: float64(5), int64(1)\n",
      "memory usage: 132.1 KB\n"
     ]
    }
   ],
   "source": [
    "# Now, there are some steps about pre-processing\n",
    "# check our data\n",
    "stock_df.info()"
   ]
  },
  {
   "cell_type": "code",
   "execution_count": 29,
   "id": "952e6391",
   "metadata": {},
   "outputs": [],
   "source": [
    "# cleansing data\n",
    "# remove some rows that have null cell, remove some rows that are not used\n",
    "# or to reduce the memory , covert datatype to float32\n",
    "stock_df.drop([\"Adj Close\"], axis=1, inplace=True)"
   ]
  },
  {
   "cell_type": "code",
   "execution_count": 30,
   "id": "0920db54",
   "metadata": {},
   "outputs": [
    {
     "data": {
      "text/plain": [
       "<AxesSubplot:xlabel='Date'>"
      ]
     },
     "execution_count": 30,
     "metadata": {},
     "output_type": "execute_result"
    },
    {
     "data": {
      "image/png": "[encoded data removed]",
      "text/plain": [
       "<Figure size 1440x576 with 1 Axes>"
      ]
     },
     "metadata": {
      "needs_background": "light"
     },
     "output_type": "display_data"
    }
   ],
   "source": [
    "# examine something about our data with plot\n",
    "stock_df[\"High\"].plot(figsize=(20,8))"
   ]
  },
  {
   "cell_type": "code",
   "execution_count": 31,
   "id": "249f40f6",
   "metadata": {},
   "outputs": [
    {
     "data": {
      "text/plain": [
       "<AxesSubplot:xlabel='Date'>"
      ]
     },
     "execution_count": 31,
     "metadata": {},
     "output_type": "execute_result"
    },
    {
     "data": {
      "image/png": "[encoded data removed]",
      "text/plain": [
       "<Figure size 1440x576 with 1 Axes>"
      ]
     },
     "metadata": {
      "needs_background": "light"
     },
     "output_type": "display_data"
    }
   ],
   "source": [
    "stock_df[\"Volume\"].plot(figsize=(20,8))"
   ]
  },
  {
   "cell_type": "code",
   "execution_count": 32,
   "id": "96d873da",
   "metadata": {},
   "outputs": [],
   "source": [
    "# ignore the index data (Date column) for data model\n",
    "values = stock_df.values"
   ]
  },
  {
   "cell_type": "code",
   "execution_count": 33,
   "id": "737d0d6b",
   "metadata": {},
   "outputs": [],
   "source": [
    "num_cols = len(stock_df.columns)"
   ]
  },
  {
   "cell_type": "code",
   "execution_count": 35,
   "id": "55fd8f91",
   "metadata": {},
   "outputs": [
    {
     "data": {
      "text/plain": [
       "(2416, 5)"
      ]
     },
     "execution_count": 35,
     "metadata": {},
     "output_type": "execute_result"
    }
   ],
   "source": [
    "values.shape"
   ]
  },
  {
   "cell_type": "raw",
   "id": "2da74c08",
   "metadata": {},
   "source": [
    "# why Google name ML lib as Tensorflow \n",
    "# Tensor is a kind multi_dimension matrix (multi_dimension array)\n",
    "# flow -> processing based on tensor "
   ]
  },
  {
   "cell_type": "code",
   "execution_count": 37,
   "id": "016f7a75",
   "metadata": {},
   "outputs": [],
   "source": [
    "# Normalize the data (pre-processing)\n",
    "# conver datatype as float32 to reduce memory \n",
    "values = values.astype('float32')\n",
    "# Scale the data base on maximum values\n",
    "# example : 100, 65, 0 --> 1   0.65   0\n",
    "scaler = MinMaxScaler(feature_range=(0,1))\n",
    "scaled = scaler .fit_transform(values)"
   ]
  },
  {
   "cell_type": "code",
   "execution_count": 52,
   "id": "99a64d51",
   "metadata": {},
   "outputs": [
    {
     "data": {
      "text/plain": [
       "array([[0.00434948, 0.01087705, 0.00388739, 0.01058623, 0.39721385],\n",
       "       [0.01467569, 0.0179205 , 0.01263401, 0.01050772, 0.36357558],\n",
       "       [0.01347426, 0.01207262, 0.00803292, 0.00806071, 0.17254321],\n",
       "       ...,\n",
       "       [0.93723667, 0.82422584, 0.9156922 , 0.81786174, 0.6153217 ],\n",
       "       [0.9487643 , 0.8269808 , 0.93774104, 0.8306333 , 0.3323102 ],\n",
       "       [1.        , 1.        , 1.        , 0.99999994, 1.        ]],\n",
       "      dtype=float32)"
      ]
     },
     "execution_count": 52,
     "metadata": {},
     "output_type": "execute_result"
    }
   ],
   "source": [
    "scaled"
   ]
  },
  {
   "cell_type": "code",
   "execution_count": 42,
   "id": "afc2ef84",
   "metadata": {},
   "outputs": [],
   "source": [
    "col_names = [name for name in stock_df.columns]"
   ]
  },
  {
   "cell_type": "code",
   "execution_count": 43,
   "id": "7edc9004",
   "metadata": {},
   "outputs": [
    {
     "data": {
      "text/plain": [
       "['Open', 'High', 'Low', 'Close', 'Volume']"
      ]
     },
     "execution_count": 43,
     "metadata": {},
     "output_type": "execute_result"
    }
   ],
   "source": [
    "col_names"
   ]
  },
  {
   "cell_type": "code",
   "execution_count": 63,
   "id": "d02022d6",
   "metadata": {},
   "outputs": [],
   "source": [
    "# data generation for Machine learning model \n",
    "def dataset_gen(data, col_names, num_steps_in=1, num_steps_out=1):\n",
    "    '''\n",
    "    num_step_in: number steps of history (in the past) data \n",
    "    num_step_out: number steps of future (in the past) data\n",
    "    '''\n",
    "    df = pd.DataFrame(data)\n",
    "    columns = []\n",
    "    names = []\n",
    "    # Create the historical data \n",
    "    for i in range(num_steps_in, 0, -1):\n",
    "        columns.append(df.shift(i))\n",
    "        names += ['%s(t-%d)' %(n, i) for n in col_names]\n",
    "                   \n",
    "    # create the future data                \n",
    "    for i in range(0, num_steps_out):\n",
    "        columns.append(df.shift(-i))\n",
    "        if i == 0:\n",
    "            names += [('%s(t)' %n) for n in col_names]\n",
    "        else: \n",
    "            names += [('%s(t +%d)' %n) for n in col_names]\n",
    "    dataset = pd.concat(columns, axis=1)\n",
    "    #print(len(dataset.columns))\n",
    "    #print(len(names))\n",
    "    dataset.columns = names\n",
    "    return dataset\n",
    "        "
   ]
  },
  {
   "cell_type": "code",
   "execution_count": 64,
   "id": "3667a0a3",
   "metadata": {},
   "outputs": [
    {
     "name": "stdout",
     "output_type": "stream",
     "text": [
      "35\n",
      "35\n"
     ]
    }
   ],
   "source": [
    "num_steps_in = 6\n",
    "num_steps_out = 1\n",
    "dataset = dataset_gen(scaled, col_names, num_steps_in, num_steps_out)"
   ]
  },
  {
   "cell_type": "code",
   "execution_count": 67,
   "id": "c5bcb939",
   "metadata": {},
   "outputs": [],
   "source": [
    "dataset.dropna(inplace=True)"
   ]
  },
  {
   "cell_type": "code",
   "execution_count": 68,
   "id": "a78048e3",
   "metadata": {},
   "outputs": [
    {
     "data": {
      "text/html": [
       "<div>\n",
       "<style scoped>\n",
       "    .dataframe tbody tr th:only-of-type {\n",
       "        vertical-align: middle;\n",
       "    }\n",
       "\n",
       "    .dataframe tbody tr th {\n",
       "        vertical-align: top;\n",
       "    }\n",
       "\n",
       "    .dataframe thead th {\n",
       "        text-align: right;\n",
       "    }\n",
       "</style>\n",
       "<table border=\"1\" class=\"dataframe\">\n",
       "  <thead>\n",
       "    <tr style=\"text-align: right;\">\n",
       "      <th></th>\n",
       "      <th>Open(t-6)</th>\n",
       "      <th>High(t-6)</th>\n",
       "      <th>Low(t-6)</th>\n",
       "      <th>Close(t-6)</th>\n",
       "      <th>Volume(t-6)</th>\n",
       "      <th>Open(t-5)</th>\n",
       "      <th>High(t-5)</th>\n",
       "      <th>Low(t-5)</th>\n",
       "      <th>Close(t-5)</th>\n",
       "      <th>Volume(t-5)</th>\n",
       "      <th>...</th>\n",
       "      <th>Open(t-1)</th>\n",
       "      <th>High(t-1)</th>\n",
       "      <th>Low(t-1)</th>\n",
       "      <th>Close(t-1)</th>\n",
       "      <th>Volume(t-1)</th>\n",
       "      <th>Open(t)</th>\n",
       "      <th>High(t)</th>\n",
       "      <th>Low(t)</th>\n",
       "      <th>Close(t)</th>\n",
       "      <th>Volume(t)</th>\n",
       "    </tr>\n",
       "  </thead>\n",
       "  <tbody>\n",
       "    <tr>\n",
       "      <th>6</th>\n",
       "      <td>0.004349</td>\n",
       "      <td>0.010877</td>\n",
       "      <td>0.003887</td>\n",
       "      <td>0.010586</td>\n",
       "      <td>0.397214</td>\n",
       "      <td>0.014676</td>\n",
       "      <td>0.017920</td>\n",
       "      <td>0.012634</td>\n",
       "      <td>0.010508</td>\n",
       "      <td>0.363576</td>\n",
       "      <td>...</td>\n",
       "      <td>0.000395</td>\n",
       "      <td>0.000000</td>\n",
       "      <td>0.000000</td>\n",
       "      <td>0.000000</td>\n",
       "      <td>0.144914</td>\n",
       "      <td>0.000000</td>\n",
       "      <td>0.001157</td>\n",
       "      <td>0.000896</td>\n",
       "      <td>0.002172</td>\n",
       "      <td>0.161735</td>\n",
       "    </tr>\n",
       "    <tr>\n",
       "      <th>7</th>\n",
       "      <td>0.014676</td>\n",
       "      <td>0.017920</td>\n",
       "      <td>0.012634</td>\n",
       "      <td>0.010508</td>\n",
       "      <td>0.363576</td>\n",
       "      <td>0.013474</td>\n",
       "      <td>0.012073</td>\n",
       "      <td>0.008033</td>\n",
       "      <td>0.008061</td>\n",
       "      <td>0.172543</td>\n",
       "      <td>...</td>\n",
       "      <td>0.000000</td>\n",
       "      <td>0.001157</td>\n",
       "      <td>0.000896</td>\n",
       "      <td>0.002172</td>\n",
       "      <td>0.161735</td>\n",
       "      <td>0.002190</td>\n",
       "      <td>0.001650</td>\n",
       "      <td>0.002384</td>\n",
       "      <td>0.002094</td>\n",
       "      <td>0.083757</td>\n",
       "    </tr>\n",
       "    <tr>\n",
       "      <th>8</th>\n",
       "      <td>0.013474</td>\n",
       "      <td>0.012073</td>\n",
       "      <td>0.008033</td>\n",
       "      <td>0.008061</td>\n",
       "      <td>0.172543</td>\n",
       "      <td>0.010433</td>\n",
       "      <td>0.008408</td>\n",
       "      <td>0.005664</td>\n",
       "      <td>0.004449</td>\n",
       "      <td>0.106958</td>\n",
       "      <td>...</td>\n",
       "      <td>0.002190</td>\n",
       "      <td>0.001650</td>\n",
       "      <td>0.002384</td>\n",
       "      <td>0.002094</td>\n",
       "      <td>0.083757</td>\n",
       "      <td>0.002753</td>\n",
       "      <td>0.001871</td>\n",
       "      <td>0.003067</td>\n",
       "      <td>0.001636</td>\n",
       "      <td>0.044391</td>\n",
       "    </tr>\n",
       "    <tr>\n",
       "      <th>9</th>\n",
       "      <td>0.010433</td>\n",
       "      <td>0.008408</td>\n",
       "      <td>0.005664</td>\n",
       "      <td>0.004449</td>\n",
       "      <td>0.106958</td>\n",
       "      <td>0.005870</td>\n",
       "      <td>0.004379</td>\n",
       "      <td>0.001291</td>\n",
       "      <td>0.000406</td>\n",
       "      <td>0.143747</td>\n",
       "      <td>...</td>\n",
       "      <td>0.002753</td>\n",
       "      <td>0.001871</td>\n",
       "      <td>0.003067</td>\n",
       "      <td>0.001636</td>\n",
       "      <td>0.044391</td>\n",
       "      <td>0.001901</td>\n",
       "      <td>0.002612</td>\n",
       "      <td>0.002916</td>\n",
       "      <td>0.003062</td>\n",
       "      <td>0.054564</td>\n",
       "    </tr>\n",
       "    <tr>\n",
       "      <th>10</th>\n",
       "      <td>0.005870</td>\n",
       "      <td>0.004379</td>\n",
       "      <td>0.001291</td>\n",
       "      <td>0.000406</td>\n",
       "      <td>0.143747</td>\n",
       "      <td>0.000395</td>\n",
       "      <td>0.000000</td>\n",
       "      <td>0.000000</td>\n",
       "      <td>0.000000</td>\n",
       "      <td>0.144914</td>\n",
       "      <td>...</td>\n",
       "      <td>0.001901</td>\n",
       "      <td>0.002612</td>\n",
       "      <td>0.002916</td>\n",
       "      <td>0.003062</td>\n",
       "      <td>0.054564</td>\n",
       "      <td>0.002737</td>\n",
       "      <td>0.004574</td>\n",
       "      <td>0.004221</td>\n",
       "      <td>0.005287</td>\n",
       "      <td>0.086837</td>\n",
       "    </tr>\n",
       "    <tr>\n",
       "      <th>...</th>\n",
       "      <td>...</td>\n",
       "      <td>...</td>\n",
       "      <td>...</td>\n",
       "      <td>...</td>\n",
       "      <td>...</td>\n",
       "      <td>...</td>\n",
       "      <td>...</td>\n",
       "      <td>...</td>\n",
       "      <td>...</td>\n",
       "      <td>...</td>\n",
       "      <td>...</td>\n",
       "      <td>...</td>\n",
       "      <td>...</td>\n",
       "      <td>...</td>\n",
       "      <td>...</td>\n",
       "      <td>...</td>\n",
       "      <td>...</td>\n",
       "      <td>...</td>\n",
       "      <td>...</td>\n",
       "      <td>...</td>\n",
       "      <td>...</td>\n",
       "    </tr>\n",
       "    <tr>\n",
       "      <th>2411</th>\n",
       "      <td>0.747426</td>\n",
       "      <td>0.648517</td>\n",
       "      <td>0.741306</td>\n",
       "      <td>0.647344</td>\n",
       "      <td>0.287787</td>\n",
       "      <td>0.781857</td>\n",
       "      <td>0.691284</td>\n",
       "      <td>0.779649</td>\n",
       "      <td>0.695368</td>\n",
       "      <td>0.376705</td>\n",
       "      <td>...</td>\n",
       "      <td>0.799711</td>\n",
       "      <td>0.711895</td>\n",
       "      <td>0.796155</td>\n",
       "      <td>0.709526</td>\n",
       "      <td>0.287340</td>\n",
       "      <td>0.840012</td>\n",
       "      <td>0.727970</td>\n",
       "      <td>0.824703</td>\n",
       "      <td>0.721146</td>\n",
       "      <td>0.248581</td>\n",
       "    </tr>\n",
       "    <tr>\n",
       "      <th>2412</th>\n",
       "      <td>0.781857</td>\n",
       "      <td>0.691284</td>\n",
       "      <td>0.779649</td>\n",
       "      <td>0.695368</td>\n",
       "      <td>0.376705</td>\n",
       "      <td>0.845183</td>\n",
       "      <td>0.750958</td>\n",
       "      <td>0.826252</td>\n",
       "      <td>0.724627</td>\n",
       "      <td>0.665662</td>\n",
       "      <td>...</td>\n",
       "      <td>0.840012</td>\n",
       "      <td>0.727970</td>\n",
       "      <td>0.824703</td>\n",
       "      <td>0.721146</td>\n",
       "      <td>0.248581</td>\n",
       "      <td>0.850962</td>\n",
       "      <td>0.744851</td>\n",
       "      <td>0.838901</td>\n",
       "      <td>0.739584</td>\n",
       "      <td>0.376663</td>\n",
       "    </tr>\n",
       "    <tr>\n",
       "      <th>2413</th>\n",
       "      <td>0.845183</td>\n",
       "      <td>0.750958</td>\n",
       "      <td>0.826252</td>\n",
       "      <td>0.724627</td>\n",
       "      <td>0.665662</td>\n",
       "      <td>0.833564</td>\n",
       "      <td>0.734714</td>\n",
       "      <td>0.820937</td>\n",
       "      <td>0.728082</td>\n",
       "      <td>0.416059</td>\n",
       "      <td>...</td>\n",
       "      <td>0.850962</td>\n",
       "      <td>0.744851</td>\n",
       "      <td>0.838901</td>\n",
       "      <td>0.739584</td>\n",
       "      <td>0.376663</td>\n",
       "      <td>0.937237</td>\n",
       "      <td>0.824226</td>\n",
       "      <td>0.915692</td>\n",
       "      <td>0.817862</td>\n",
       "      <td>0.615322</td>\n",
       "    </tr>\n",
       "    <tr>\n",
       "      <th>2414</th>\n",
       "      <td>0.833564</td>\n",
       "      <td>0.734714</td>\n",
       "      <td>0.820937</td>\n",
       "      <td>0.728082</td>\n",
       "      <td>0.416059</td>\n",
       "      <td>0.843267</td>\n",
       "      <td>0.724136</td>\n",
       "      <td>0.818902</td>\n",
       "      <td>0.718424</td>\n",
       "      <td>0.303220</td>\n",
       "      <td>...</td>\n",
       "      <td>0.937237</td>\n",
       "      <td>0.824226</td>\n",
       "      <td>0.915692</td>\n",
       "      <td>0.817862</td>\n",
       "      <td>0.615322</td>\n",
       "      <td>0.948764</td>\n",
       "      <td>0.826981</td>\n",
       "      <td>0.937741</td>\n",
       "      <td>0.830633</td>\n",
       "      <td>0.332310</td>\n",
       "    </tr>\n",
       "    <tr>\n",
       "      <th>2415</th>\n",
       "      <td>0.843267</td>\n",
       "      <td>0.724136</td>\n",
       "      <td>0.818902</td>\n",
       "      <td>0.718424</td>\n",
       "      <td>0.303220</td>\n",
       "      <td>0.799711</td>\n",
       "      <td>0.711895</td>\n",
       "      <td>0.796155</td>\n",
       "      <td>0.709526</td>\n",
       "      <td>0.287340</td>\n",
       "      <td>...</td>\n",
       "      <td>0.948764</td>\n",
       "      <td>0.826981</td>\n",
       "      <td>0.937741</td>\n",
       "      <td>0.830633</td>\n",
       "      <td>0.332310</td>\n",
       "      <td>1.000000</td>\n",
       "      <td>1.000000</td>\n",
       "      <td>1.000000</td>\n",
       "      <td>1.000000</td>\n",
       "      <td>1.000000</td>\n",
       "    </tr>\n",
       "  </tbody>\n",
       "</table>\n",
       "<p>2410 rows × 35 columns</p>\n",
       "</div>"
      ],
      "text/plain": [
       "      Open(t-6)  High(t-6)  Low(t-6)  Close(t-6)  Volume(t-6)  Open(t-5)  \\\n",
       "6      0.004349   0.010877  0.003887    0.010586     0.397214   0.014676   \n",
       "7      0.014676   0.017920  0.012634    0.010508     0.363576   0.013474   \n",
       "8      0.013474   0.012073  0.008033    0.008061     0.172543   0.010433   \n",
       "9      0.010433   0.008408  0.005664    0.004449     0.106958   0.005870   \n",
       "10     0.005870   0.004379  0.001291    0.000406     0.143747   0.000395   \n",
       "...         ...        ...       ...         ...          ...        ...   \n",
       "2411   0.747426   0.648517  0.741306    0.647344     0.287787   0.781857   \n",
       "2412   0.781857   0.691284  0.779649    0.695368     0.376705   0.845183   \n",
       "2413   0.845183   0.750958  0.826252    0.724627     0.665662   0.833564   \n",
       "2414   0.833564   0.734714  0.820937    0.728082     0.416059   0.843267   \n",
       "2415   0.843267   0.724136  0.818902    0.718424     0.303220   0.799711   \n",
       "\n",
       "      High(t-5)  Low(t-5)  Close(t-5)  Volume(t-5)  ...  Open(t-1)  High(t-1)  \\\n",
       "6      0.017920  0.012634    0.010508     0.363576  ...   0.000395   0.000000   \n",
       "7      0.012073  0.008033    0.008061     0.172543  ...   0.000000   0.001157   \n",
       "8      0.008408  0.005664    0.004449     0.106958  ...   0.002190   0.001650   \n",
       "9      0.004379  0.001291    0.000406     0.143747  ...   0.002753   0.001871   \n",
       "10     0.000000  0.000000    0.000000     0.144914  ...   0.001901   0.002612   \n",
       "...         ...       ...         ...          ...  ...        ...        ...   \n",
       "2411   0.691284  0.779649    0.695368     0.376705  ...   0.799711   0.711895   \n",
       "2412   0.750958  0.826252    0.724627     0.665662  ...   0.840012   0.727970   \n",
       "2413   0.734714  0.820937    0.728082     0.416059  ...   0.850962   0.744851   \n",
       "2414   0.724136  0.818902    0.718424     0.303220  ...   0.937237   0.824226   \n",
       "2415   0.711895  0.796155    0.709526     0.287340  ...   0.948764   0.826981   \n",
       "\n",
       "      Low(t-1)  Close(t-1)  Volume(t-1)   Open(t)   High(t)    Low(t)  \\\n",
       "6     0.000000    0.000000     0.144914  0.000000  0.001157  0.000896   \n",
       "7     0.000896    0.002172     0.161735  0.002190  0.001650  0.002384   \n",
       "8     0.002384    0.002094     0.083757  0.002753  0.001871  0.003067   \n",
       "9     0.003067    0.001636     0.044391  0.001901  0.002612  0.002916   \n",
       "10    0.002916    0.003062     0.054564  0.002737  0.004574  0.004221   \n",
       "...        ...         ...          ...       ...       ...       ...   \n",
       "2411  0.796155    0.709526     0.287340  0.840012  0.727970  0.824703   \n",
       "2412  0.824703    0.721146     0.248581  0.850962  0.744851  0.838901   \n",
       "2413  0.838901    0.739584     0.376663  0.937237  0.824226  0.915692   \n",
       "2414  0.915692    0.817862     0.615322  0.948764  0.826981  0.937741   \n",
       "2415  0.937741    0.830633     0.332310  1.000000  1.000000  1.000000   \n",
       "\n",
       "      Close(t)  Volume(t)  \n",
       "6     0.002172   0.161735  \n",
       "7     0.002094   0.083757  \n",
       "8     0.001636   0.044391  \n",
       "9     0.003062   0.054564  \n",
       "10    0.005287   0.086837  \n",
       "...        ...        ...  \n",
       "2411  0.721146   0.248581  \n",
       "2412  0.739584   0.376663  \n",
       "2413  0.817862   0.615322  \n",
       "2414  0.830633   0.332310  \n",
       "2415  1.000000   1.000000  \n",
       "\n",
       "[2410 rows x 35 columns]"
      ]
     },
     "execution_count": 68,
     "metadata": {},
     "output_type": "execute_result"
    }
   ],
   "source": [
    "dataset "
   ]
  },
  {
   "cell_type": "code",
   "execution_count": 69,
   "id": "f2ba82d7",
   "metadata": {},
   "outputs": [],
   "source": [
    "values = dataset.values"
   ]
  },
  {
   "cell_type": "code",
   "execution_count": 71,
   "id": "6a23a1b5",
   "metadata": {},
   "outputs": [],
   "source": [
    "# we have split out data into train:test data, scale 80%:20%\n",
    "train_size = int(len(values)*0.8)\n",
    "test_size = len(values) - train_size"
   ]
  },
  {
   "cell_type": "code",
   "execution_count": 72,
   "id": "b0291140",
   "metadata": {},
   "outputs": [],
   "source": [
    "train = values[0:train_size]\n",
    "test = values[train_size: len(values)]"
   ]
  },
  {
   "cell_type": "code",
   "execution_count": 73,
   "id": "6e58f216",
   "metadata": {},
   "outputs": [
    {
     "name": "stdout",
     "output_type": "stream",
     "text": [
      "1928 482\n"
     ]
    }
   ],
   "source": [
    "print(len(train), len(test))"
   ]
  },
  {
   "cell_type": "code",
   "execution_count": 75,
   "id": "8cbfd297",
   "metadata": {},
   "outputs": [],
   "source": [
    "num_cols = len(col_names)\n",
    "num_col_input = num_steps_in*num_cols\n",
    "num_col_target = num_steps_out*num_cols"
   ]
  },
  {
   "cell_type": "code",
   "execution_count": 76,
   "id": "151ee71b",
   "metadata": {},
   "outputs": [],
   "source": [
    "# We try to predict the Open values in the future\n",
    "target_idx = [dataset.columns.to_list().index(col) for col in dataset.columns[num_col_input:] if 'Open' in col]"
   ]
  },
  {
   "cell_type": "code",
   "execution_count": 77,
   "id": "559d7b2c",
   "metadata": {},
   "outputs": [
    {
     "data": {
      "text/plain": [
       "[30]"
      ]
     },
     "execution_count": 77,
     "metadata": {},
     "output_type": "execute_result"
    }
   ],
   "source": [
    "target_idx"
   ]
  },
  {
   "cell_type": "code",
   "execution_count": 78,
   "id": "3210d917",
   "metadata": {},
   "outputs": [
    {
     "data": {
      "text/plain": [
       "(1928, 35)"
      ]
     },
     "execution_count": 78,
     "metadata": {},
     "output_type": "execute_result"
    }
   ],
   "source": [
    "train.shape"
   ]
  },
  {
   "cell_type": "code",
   "execution_count": 79,
   "id": "1180a081",
   "metadata": {},
   "outputs": [],
   "source": [
    "train_X = train[:, 0: num_col_input]\n",
    "train_y = train[:, target_idx]"
   ]
  },
  {
   "cell_type": "code",
   "execution_count": 82,
   "id": "b6cadf64",
   "metadata": {},
   "outputs": [],
   "source": [
    "test_X, test_y = test[:, 0: num_col_input], test[:, target_idx]"
   ]
  },
  {
   "cell_type": "code",
   "execution_count": 83,
   "id": "ea8fcb06",
   "metadata": {},
   "outputs": [
    {
     "name": "stdout",
     "output_type": "stream",
     "text": [
      "(1928, 30) (1928, 1) (482, 30) (482, 1)\n"
     ]
    }
   ],
   "source": [
    "print(train_X.shape, train_y.shape, test_X.shape, test_y.shape)"
   ]
  },
  {
   "cell_type": "code",
   "execution_count": 84,
   "id": "dec0d1d0",
   "metadata": {},
   "outputs": [
    {
     "data": {
      "text/plain": [
       "array([4.34947945e-03, 1.08770542e-02, 3.88738886e-03, 1.05862319e-02,\n",
       "       3.97213846e-01, 1.46756917e-02, 1.79204978e-02, 1.26340073e-02,\n",
       "       1.05077196e-02, 3.63575578e-01, 1.34742595e-02, 1.20726191e-02,\n",
       "       8.03292170e-03, 8.06071423e-03, 1.72543213e-01, 1.04326680e-02,\n",
       "       8.40795040e-03, 5.66404313e-03, 4.44909744e-03, 1.06957912e-01,\n",
       "       5.87027520e-03, 4.37941216e-03, 1.29073299e-03, 4.05652449e-04,\n",
       "       1.43746600e-01, 3.95406038e-04, 0.00000000e+00, 0.00000000e+00,\n",
       "       0.00000000e+00, 1.44913882e-01], dtype=float32)"
      ]
     },
     "execution_count": 84,
     "metadata": {},
     "output_type": "execute_result"
    }
   ],
   "source": [
    "train_X[0]"
   ]
  },
  {
   "cell_type": "code",
   "execution_count": 85,
   "id": "56a0aa4d",
   "metadata": {},
   "outputs": [],
   "source": [
    "n_features = num_cols"
   ]
  },
  {
   "cell_type": "code",
   "execution_count": 86,
   "id": "22cf30e7",
   "metadata": {},
   "outputs": [],
   "source": [
    "train_X = train_X.reshape(train_X.shape[0], num_steps_in, num_cols)"
   ]
  },
  {
   "cell_type": "code",
   "execution_count": 88,
   "id": "f6ab023a",
   "metadata": {},
   "outputs": [
    {
     "data": {
      "text/plain": [
       "(1928, 6, 5)"
      ]
     },
     "execution_count": 88,
     "metadata": {},
     "output_type": "execute_result"
    }
   ],
   "source": [
    "train_X.shape"
   ]
  },
  {
   "cell_type": "code",
   "execution_count": 89,
   "id": "0c26b194",
   "metadata": {},
   "outputs": [],
   "source": [
    "test_X = test_X.reshape(test_X.shape[0], num_steps_in, num_cols)"
   ]
  },
  {
   "cell_type": "code",
   "execution_count": 91,
   "id": "791fb283",
   "metadata": {},
   "outputs": [
    {
     "data": {
      "text/plain": [
       "(482, 6, 5)"
      ]
     },
     "execution_count": 91,
     "metadata": {},
     "output_type": "execute_result"
    }
   ],
   "source": [
    "test_X.shape"
   ]
  },
  {
   "cell_type": "code",
   "execution_count": 97,
   "id": "eadcfbfb",
   "metadata": {},
   "outputs": [],
   "source": [
    "# Create the LSTM model \n",
    "model = Sequential()\n",
    "model.add(LSTM(150, input_shape=(train_X.shape[1], train_X.shape[2])))\n",
    "model.add(Dense(train_y.shape[1]))"
   ]
  },
  {
   "cell_type": "code",
   "execution_count": 98,
   "id": "c9871c4a",
   "metadata": {},
   "outputs": [],
   "source": [
    "# Select loss function and an optimizer \n",
    "model.compile(loss=\"mean_squared_error\", optimizer=\"adam\")"
   ]
  },
  {
   "cell_type": "code",
   "execution_count": 99,
   "id": "5c016b3b",
   "metadata": {},
   "outputs": [
    {
     "name": "stdout",
     "output_type": "stream",
     "text": [
      "Epoch 1/50\n",
      "61/61 [==============================] - 5s 23ms/step - loss: 5.3797e-04 - val_loss: 9.5847e-04\n",
      "Epoch 2/50\n",
      "61/61 [==============================] - 1s 10ms/step - loss: 4.5140e-04 - val_loss: 6.2930e-04\n",
      "Epoch 3/50\n",
      "61/61 [==============================] - 1s 9ms/step - loss: 1.7814e-04 - val_loss: 5.3546e-04\n",
      "Epoch 4/50\n",
      "61/61 [==============================] - 1s 10ms/step - loss: 1.3999e-04 - val_loss: 4.7254e-04\n",
      "Epoch 5/50\n",
      "61/61 [==============================] - 1s 11ms/step - loss: 1.3238e-04 - val_loss: 4.4692e-04\n",
      "Epoch 6/50\n",
      "61/61 [==============================] - 1s 9ms/step - loss: 1.2334e-04 - val_loss: 4.3119e-04\n",
      "Epoch 7/50\n",
      "61/61 [==============================] - 1s 9ms/step - loss: 1.1422e-04 - val_loss: 4.2068e-04\n",
      "Epoch 8/50\n",
      "61/61 [==============================] - 1s 9ms/step - loss: 1.0866e-04 - val_loss: 4.1130e-04\n",
      "Epoch 9/50\n",
      "61/61 [==============================] - 1s 10ms/step - loss: 1.0502e-04 - val_loss: 4.0127e-04\n",
      "Epoch 10/50\n",
      "61/61 [==============================] - 1s 11ms/step - loss: 1.0158e-04 - val_loss: 3.9026e-04\n",
      "Epoch 11/50\n",
      "61/61 [==============================] - 1s 8ms/step - loss: 9.7978e-05 - val_loss: 3.7860e-04\n",
      "Epoch 12/50\n",
      "61/61 [==============================] - 1s 10ms/step - loss: 9.4260e-05 - val_loss: 3.6663e-04\n",
      "Epoch 13/50\n",
      "61/61 [==============================] - 1s 8ms/step - loss: 9.0514e-05 - val_loss: 3.5458e-04\n",
      "Epoch 14/50\n",
      "61/61 [==============================] - 1s 10ms/step - loss: 8.6767e-05 - val_loss: 3.4260e-04\n",
      "Epoch 15/50\n",
      "61/61 [==============================] - 1s 9ms/step - loss: 8.3047e-05 - val_loss: 3.3076e-04\n",
      "Epoch 16/50\n",
      "61/61 [==============================] - 1s 10ms/step - loss: 7.9379e-05 - val_loss: 3.1916e-04\n",
      "Epoch 17/50\n",
      "61/61 [==============================] - 1s 11ms/step - loss: 7.5798e-05 - val_loss: 3.0784e-04\n",
      "Epoch 18/50\n",
      "61/61 [==============================] - 1s 10ms/step - loss: 7.2351e-05 - val_loss: 2.9688e-04\n",
      "Epoch 19/50\n",
      "61/61 [==============================] - 1s 11ms/step - loss: 6.9100e-05 - val_loss: 2.8634e-04\n",
      "Epoch 20/50\n",
      "61/61 [==============================] - 1s 10ms/step - loss: 6.6116e-05 - val_loss: 2.7628e-04\n",
      "Epoch 21/50\n",
      "61/61 [==============================] - 1s 9ms/step - loss: 6.3466e-05 - val_loss: 2.6676e-04\n",
      "Epoch 22/50\n",
      "61/61 [==============================] - 1s 10ms/step - loss: 6.1182e-05 - val_loss: 2.5773e-04\n",
      "Epoch 23/50\n",
      "61/61 [==============================] - 1s 9ms/step - loss: 5.9240e-05 - val_loss: 2.4911e-04\n",
      "Epoch 24/50\n",
      "61/61 [==============================] - 1s 9ms/step - loss: 5.7544e-05 - val_loss: 2.4078e-04\n",
      "Epoch 25/50\n",
      "61/61 [==============================] - 1s 10ms/step - loss: 5.5965e-05 - val_loss: 2.3268e-04\n",
      "Epoch 26/50\n",
      "61/61 [==============================] - 1s 9ms/step - loss: 5.4390e-05 - val_loss: 2.2486e-04\n",
      "Epoch 27/50\n",
      "61/61 [==============================] - 1s 10ms/step - loss: 5.2762e-05 - val_loss: 2.1739e-04\n",
      "Epoch 28/50\n",
      "61/61 [==============================] - 1s 9ms/step - loss: 5.1087e-05 - val_loss: 2.1036e-04\n",
      "Epoch 29/50\n",
      "61/61 [==============================] - 1s 9ms/step - loss: 4.9399e-05 - val_loss: 2.0379e-04\n",
      "Epoch 30/50\n",
      "61/61 [==============================] - 1s 11ms/step - loss: 4.7739e-05 - val_loss: 1.9773e-04\n",
      "Epoch 31/50\n",
      "61/61 [==============================] - 1s 11ms/step - loss: 4.6136e-05 - val_loss: 1.9217e-04\n",
      "Epoch 32/50\n",
      "61/61 [==============================] - 1s 11ms/step - loss: 4.4610e-05 - val_loss: 1.8713e-04\n",
      "Epoch 33/50\n",
      "61/61 [==============================] - 1s 12ms/step - loss: 4.3176e-05 - val_loss: 1.8260e-04\n",
      "Epoch 34/50\n",
      "61/61 [==============================] - 1s 10ms/step - loss: 4.1846e-05 - val_loss: 1.7858e-04\n",
      "Epoch 35/50\n",
      "61/61 [==============================] - 1s 11ms/step - loss: 4.0627e-05 - val_loss: 1.7505e-04\n",
      "Epoch 36/50\n",
      "61/61 [==============================] - 1s 11ms/step - loss: 3.9527e-05 - val_loss: 1.7200e-04\n",
      "Epoch 37/50\n",
      "61/61 [==============================] - 1s 12ms/step - loss: 3.8550e-05 - val_loss: 1.6941e-04\n",
      "Epoch 38/50\n",
      "61/61 [==============================] - 1s 12ms/step - loss: 3.7696e-05 - val_loss: 1.6726e-04\n",
      "Epoch 39/50\n",
      "61/61 [==============================] - 1s 11ms/step - loss: 3.6964e-05 - val_loss: 1.6552e-04\n",
      "Epoch 40/50\n",
      "61/61 [==============================] - 1s 12ms/step - loss: 3.6348e-05 - val_loss: 1.6415e-04\n",
      "Epoch 41/50\n",
      "61/61 [==============================] - 1s 12ms/step - loss: 3.5841e-05 - val_loss: 1.6313e-04\n",
      "Epoch 42/50\n",
      "61/61 [==============================] - 1s 12ms/step - loss: 3.5434e-05 - val_loss: 1.6243e-04\n",
      "Epoch 43/50\n",
      "61/61 [==============================] - 1s 12ms/step - loss: 3.5114e-05 - val_loss: 1.6200e-04\n",
      "Epoch 44/50\n",
      "61/61 [==============================] - 1s 11ms/step - loss: 3.4869e-05 - val_loss: 1.6182e-04\n",
      "Epoch 45/50\n",
      "61/61 [==============================] - 1s 13ms/step - loss: 3.4684e-05 - val_loss: 1.6186e-04\n",
      "Epoch 46/50\n",
      "61/61 [==============================] - 1s 12ms/step - loss: 3.4544e-05 - val_loss: 1.6209e-04\n",
      "Epoch 47/50\n",
      "61/61 [==============================] - 1s 12ms/step - loss: 3.4437e-05 - val_loss: 1.6250e-04\n",
      "Epoch 48/50\n",
      "61/61 [==============================] - 1s 11ms/step - loss: 3.4353e-05 - val_loss: 1.6306e-04\n",
      "Epoch 49/50\n",
      "61/61 [==============================] - 1s 11ms/step - loss: 3.4285e-05 - val_loss: 1.6377e-04\n",
      "Epoch 50/50\n",
      "61/61 [==============================] - 1s 12ms/step - loss: 3.4233e-05 - val_loss: 1.6462e-04\n"
     ]
    }
   ],
   "source": [
    "# train the model \n",
    "t = model.fit(train_X, train_y, epochs=50, batch_size=32,\n",
    "              validation_data=(test_X, test_y),\n",
    "              verbose=1, \n",
    "              shuffle=False\n",
    "             )"
   ]
  },
  {
   "cell_type": "code",
   "execution_count": null,
   "id": "d354e6fc",
   "metadata": {},
   "outputs": [],
   "source": []
  }
 ],
 "metadata": {
  "kernelspec": {
   "display_name": "Python 3",
   "language": "python",
   "name": "python3"
  },
  "language_info": {
   "codemirror_mode": {
    "name": "ipython",
    "version": 3
   },
   "file_extension": ".py",
   "mimetype": "text/x-python",
   "name": "python",
   "nbconvert_exporter": "python",
   "pygments_lexer": "ipython3",
   "version": "3.8.8"
  }
 },
 "nbformat": 4,
 "nbformat_minor": 5
}
